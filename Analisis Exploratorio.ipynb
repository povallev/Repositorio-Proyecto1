{
 "cells": [
  {
   "cell_type": "markdown",
   "metadata": {},
   "source": [
    "# Análisis Exploratorio"
   ]
  },
  {
   "cell_type": "markdown",
   "metadata": {},
   "source": [
    "### Importar librerias"
   ]
  },
  {
   "cell_type": "code",
   "execution_count": 1,
   "metadata": {},
   "outputs": [],
   "source": [
    "import pandas as pd\n",
    "import plotly.express as px\n",
    "import seaborn as sns\n",
    "import matplotlib.pyplot as plt\n",
    "import math\n",
    "import nbformat"
   ]
  },
  {
   "cell_type": "markdown",
   "metadata": {},
   "source": [
    "### Cargar Archivo CSV"
   ]
  },
  {
   "cell_type": "code",
   "execution_count": 2,
   "metadata": {},
   "outputs": [],
   "source": [
    "df=pd.read_csv(\"datos_apartamentos_rent.csv\")"
   ]
  },
  {
   "cell_type": "markdown",
   "metadata": {},
   "source": [
    "### Ánalisis Descriptivo"
   ]
  },
  {
   "cell_type": "code",
   "execution_count": 3,
   "metadata": {},
   "outputs": [
    {
     "data": {
      "text/html": [
       "<div>\n",
       "<style scoped>\n",
       "    .dataframe tbody tr th:only-of-type {\n",
       "        vertical-align: middle;\n",
       "    }\n",
       "\n",
       "    .dataframe tbody tr th {\n",
       "        vertical-align: top;\n",
       "    }\n",
       "\n",
       "    .dataframe thead th {\n",
       "        text-align: right;\n",
       "    }\n",
       "</style>\n",
       "<table border=\"1\" class=\"dataframe\">\n",
       "  <thead>\n",
       "    <tr style=\"text-align: right;\">\n",
       "      <th></th>\n",
       "      <th>id</th>\n",
       "      <th>bathrooms</th>\n",
       "      <th>bedrooms</th>\n",
       "      <th>price</th>\n",
       "      <th>square_feet</th>\n",
       "      <th>latitude</th>\n",
       "      <th>longitude</th>\n",
       "      <th>time</th>\n",
       "    </tr>\n",
       "  </thead>\n",
       "  <tbody>\n",
       "    <tr>\n",
       "      <th>count</th>\n",
       "      <td>1.000000e+04</td>\n",
       "      <td>9966.000000</td>\n",
       "      <td>9993.000000</td>\n",
       "      <td>10000.000000</td>\n",
       "      <td>10000.000000</td>\n",
       "      <td>9990.000000</td>\n",
       "      <td>9.990000e+03</td>\n",
       "      <td>1.000000e+04</td>\n",
       "    </tr>\n",
       "    <tr>\n",
       "      <th>mean</th>\n",
       "      <td>5.623396e+09</td>\n",
       "      <td>1.380544</td>\n",
       "      <td>1.744021</td>\n",
       "      <td>1486.277500</td>\n",
       "      <td>945.810500</td>\n",
       "      <td>376951.620420</td>\n",
       "      <td>-9.465225e+05</td>\n",
       "      <td>1.574891e+09</td>\n",
       "    </tr>\n",
       "    <tr>\n",
       "      <th>std</th>\n",
       "      <td>7.021025e+07</td>\n",
       "      <td>0.615410</td>\n",
       "      <td>0.942354</td>\n",
       "      <td>1076.507968</td>\n",
       "      <td>655.755736</td>\n",
       "      <td>54958.509131</td>\n",
       "      <td>1.575980e+05</td>\n",
       "      <td>3.762395e+06</td>\n",
       "    </tr>\n",
       "    <tr>\n",
       "      <th>min</th>\n",
       "      <td>5.508654e+09</td>\n",
       "      <td>1.000000</td>\n",
       "      <td>0.000000</td>\n",
       "      <td>200.000000</td>\n",
       "      <td>101.000000</td>\n",
       "      <td>213155.000000</td>\n",
       "      <td>-1.580221e+06</td>\n",
       "      <td>1.568744e+09</td>\n",
       "    </tr>\n",
       "    <tr>\n",
       "      <th>25%</th>\n",
       "      <td>5.509248e+09</td>\n",
       "      <td>1.000000</td>\n",
       "      <td>1.000000</td>\n",
       "      <td>949.000000</td>\n",
       "      <td>649.000000</td>\n",
       "      <td>336798.500000</td>\n",
       "      <td>-1.013017e+06</td>\n",
       "      <td>1.568781e+09</td>\n",
       "    </tr>\n",
       "    <tr>\n",
       "      <th>50%</th>\n",
       "      <td>5.668610e+09</td>\n",
       "      <td>1.000000</td>\n",
       "      <td>2.000000</td>\n",
       "      <td>1270.000000</td>\n",
       "      <td>802.000000</td>\n",
       "      <td>388098.000000</td>\n",
       "      <td>-9.365160e+05</td>\n",
       "      <td>1.577358e+09</td>\n",
       "    </tr>\n",
       "    <tr>\n",
       "      <th>75%</th>\n",
       "      <td>5.668626e+09</td>\n",
       "      <td>2.000000</td>\n",
       "      <td>2.000000</td>\n",
       "      <td>1695.000000</td>\n",
       "      <td>1100.000000</td>\n",
       "      <td>413498.000000</td>\n",
       "      <td>-8.220998e+05</td>\n",
       "      <td>1.577359e+09</td>\n",
       "    </tr>\n",
       "    <tr>\n",
       "      <th>max</th>\n",
       "      <td>5.668663e+09</td>\n",
       "      <td>8.500000</td>\n",
       "      <td>9.000000</td>\n",
       "      <td>52500.000000</td>\n",
       "      <td>40000.000000</td>\n",
       "      <td>615940.000000</td>\n",
       "      <td>-7.019160e+05</td>\n",
       "      <td>1.577362e+09</td>\n",
       "    </tr>\n",
       "  </tbody>\n",
       "</table>\n",
       "</div>"
      ],
      "text/plain": [
       "                 id    bathrooms     bedrooms         price   square_feet  \\\n",
       "count  1.000000e+04  9966.000000  9993.000000  10000.000000  10000.000000   \n",
       "mean   5.623396e+09     1.380544     1.744021   1486.277500    945.810500   \n",
       "std    7.021025e+07     0.615410     0.942354   1076.507968    655.755736   \n",
       "min    5.508654e+09     1.000000     0.000000    200.000000    101.000000   \n",
       "25%    5.509248e+09     1.000000     1.000000    949.000000    649.000000   \n",
       "50%    5.668610e+09     1.000000     2.000000   1270.000000    802.000000   \n",
       "75%    5.668626e+09     2.000000     2.000000   1695.000000   1100.000000   \n",
       "max    5.668663e+09     8.500000     9.000000  52500.000000  40000.000000   \n",
       "\n",
       "            latitude     longitude          time  \n",
       "count    9990.000000  9.990000e+03  1.000000e+04  \n",
       "mean   376951.620420 -9.465225e+05  1.574891e+09  \n",
       "std     54958.509131  1.575980e+05  3.762395e+06  \n",
       "min    213155.000000 -1.580221e+06  1.568744e+09  \n",
       "25%    336798.500000 -1.013017e+06  1.568781e+09  \n",
       "50%    388098.000000 -9.365160e+05  1.577358e+09  \n",
       "75%    413498.000000 -8.220998e+05  1.577359e+09  \n",
       "max    615940.000000 -7.019160e+05  1.577362e+09  "
      ]
     },
     "execution_count": 3,
     "metadata": {},
     "output_type": "execute_result"
    }
   ],
   "source": [
    "df.describe()"
   ]
  }
 ],
 "metadata": {
  "kernelspec": {
   "display_name": "Python 3",
   "language": "python",
   "name": "python3"
  },
  "language_info": {
   "codemirror_mode": {
    "name": "ipython",
    "version": 3
   },
   "file_extension": ".py",
   "mimetype": "text/x-python",
   "name": "python",
   "nbconvert_exporter": "python",
   "pygments_lexer": "ipython3",
   "version": "3.11.0"
  }
 },
 "nbformat": 4,
 "nbformat_minor": 2
}
