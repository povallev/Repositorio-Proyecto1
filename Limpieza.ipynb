{
 "cells": [
  {
   "cell_type": "markdown",
   "metadata": {},
   "source": [
    "# Limpieza de Datos"
   ]
  },
  {
   "cell_type": "markdown",
   "metadata": {},
   "source": [
    "### Importar librerias"
   ]
  },
  {
   "cell_type": "code",
   "execution_count": 4,
   "metadata": {},
   "outputs": [],
   "source": [
    "import pandas as pd\n",
    "import matplotlib.pyplot as plt"
   ]
  },
  {
   "cell_type": "markdown",
   "metadata": {},
   "source": [
    "### Cargar Archivo CSV"
   ]
  },
  {
   "cell_type": "code",
   "execution_count": 5,
   "metadata": {},
   "outputs": [],
   "source": [
    "df=pd.read_csv(\"datos_apartamentos_rent.csv\")"
   ]
  },
  {
   "cell_type": "markdown",
   "metadata": {},
   "source": [
    "### Eliminación de variables descriptivas o poco significativas"
   ]
  },
  {
   "cell_type": "code",
   "execution_count": 6,
   "metadata": {},
   "outputs": [],
   "source": [
    "df=df.drop(['id','title','body','currency','fee','address','source'],axis=1)\n"
   ]
  },
  {
   "cell_type": "code",
   "execution_count": 8,
   "metadata": {},
   "outputs": [
    {
     "data": {
      "text/html": [
       "<div>\n",
       "<style scoped>\n",
       "    .dataframe tbody tr th:only-of-type {\n",
       "        vertical-align: middle;\n",
       "    }\n",
       "\n",
       "    .dataframe tbody tr th {\n",
       "        vertical-align: top;\n",
       "    }\n",
       "\n",
       "    .dataframe thead th {\n",
       "        text-align: right;\n",
       "    }\n",
       "</style>\n",
       "<table border=\"1\" class=\"dataframe\">\n",
       "  <thead>\n",
       "    <tr style=\"text-align: right;\">\n",
       "      <th></th>\n",
       "      <th>category</th>\n",
       "      <th>amenities</th>\n",
       "      <th>bathrooms</th>\n",
       "      <th>bedrooms</th>\n",
       "      <th>has_photo</th>\n",
       "      <th>pets_allowed</th>\n",
       "      <th>price</th>\n",
       "      <th>price_display</th>\n",
       "      <th>price_type</th>\n",
       "      <th>square_feet</th>\n",
       "      <th>cityname</th>\n",
       "      <th>state</th>\n",
       "      <th>latitude</th>\n",
       "      <th>longitude</th>\n",
       "      <th>time</th>\n",
       "    </tr>\n",
       "  </thead>\n",
       "  <tbody>\n",
       "    <tr>\n",
       "      <th>0</th>\n",
       "      <td>housing/rent/apartment</td>\n",
       "      <td>NaN</td>\n",
       "      <td>NaN</td>\n",
       "      <td>0.0</td>\n",
       "      <td>Thumbnail</td>\n",
       "      <td>NaN</td>\n",
       "      <td>790</td>\n",
       "      <td>790</td>\n",
       "      <td>Monthly</td>\n",
       "      <td>101</td>\n",
       "      <td>Washington</td>\n",
       "      <td>DC</td>\n",
       "      <td>389057.0</td>\n",
       "      <td>-769861.0</td>\n",
       "      <td>1577359415</td>\n",
       "    </tr>\n",
       "    <tr>\n",
       "      <th>1</th>\n",
       "      <td>housing/rent/apartment</td>\n",
       "      <td>NaN</td>\n",
       "      <td>NaN</td>\n",
       "      <td>1.0</td>\n",
       "      <td>Thumbnail</td>\n",
       "      <td>NaN</td>\n",
       "      <td>425</td>\n",
       "      <td>425</td>\n",
       "      <td>Monthly</td>\n",
       "      <td>106</td>\n",
       "      <td>Evansville</td>\n",
       "      <td>IN</td>\n",
       "      <td>379680.0</td>\n",
       "      <td>-876621.0</td>\n",
       "      <td>1577017063</td>\n",
       "    </tr>\n",
       "    <tr>\n",
       "      <th>2</th>\n",
       "      <td>housing/rent/apartment</td>\n",
       "      <td>NaN</td>\n",
       "      <td>1.0</td>\n",
       "      <td>0.0</td>\n",
       "      <td>Thumbnail</td>\n",
       "      <td>NaN</td>\n",
       "      <td>1390</td>\n",
       "      <td>1.39</td>\n",
       "      <td>Monthly</td>\n",
       "      <td>107</td>\n",
       "      <td>Arlington</td>\n",
       "      <td>VA</td>\n",
       "      <td>388910.0</td>\n",
       "      <td>-770816.0</td>\n",
       "      <td>1577359410</td>\n",
       "    </tr>\n",
       "    <tr>\n",
       "      <th>3</th>\n",
       "      <td>housing/rent/apartment</td>\n",
       "      <td>NaN</td>\n",
       "      <td>1.0</td>\n",
       "      <td>0.0</td>\n",
       "      <td>Thumbnail</td>\n",
       "      <td>NaN</td>\n",
       "      <td>925</td>\n",
       "      <td>925</td>\n",
       "      <td>Monthly</td>\n",
       "      <td>116</td>\n",
       "      <td>Seattle</td>\n",
       "      <td>WA</td>\n",
       "      <td>476160.0</td>\n",
       "      <td>-1223275.0</td>\n",
       "      <td>1576667743</td>\n",
       "    </tr>\n",
       "    <tr>\n",
       "      <th>4</th>\n",
       "      <td>housing/rent/apartment</td>\n",
       "      <td>NaN</td>\n",
       "      <td>NaN</td>\n",
       "      <td>0.0</td>\n",
       "      <td>Thumbnail</td>\n",
       "      <td>NaN</td>\n",
       "      <td>880</td>\n",
       "      <td>880</td>\n",
       "      <td>Monthly</td>\n",
       "      <td>125</td>\n",
       "      <td>Arlington</td>\n",
       "      <td>VA</td>\n",
       "      <td>388738.0</td>\n",
       "      <td>-771055.0</td>\n",
       "      <td>1577359401</td>\n",
       "    </tr>\n",
       "  </tbody>\n",
       "</table>\n",
       "</div>"
      ],
      "text/plain": [
       "                 category amenities  bathrooms  bedrooms  has_photo  \\\n",
       "0  housing/rent/apartment       NaN        NaN       0.0  Thumbnail   \n",
       "1  housing/rent/apartment       NaN        NaN       1.0  Thumbnail   \n",
       "2  housing/rent/apartment       NaN        1.0       0.0  Thumbnail   \n",
       "3  housing/rent/apartment       NaN        1.0       0.0  Thumbnail   \n",
       "4  housing/rent/apartment       NaN        NaN       0.0  Thumbnail   \n",
       "\n",
       "  pets_allowed  price price_display price_type  square_feet    cityname state  \\\n",
       "0          NaN    790           790    Monthly          101  Washington    DC   \n",
       "1          NaN    425           425    Monthly          106  Evansville    IN   \n",
       "2          NaN   1390          1.39    Monthly          107   Arlington    VA   \n",
       "3          NaN    925           925    Monthly          116     Seattle    WA   \n",
       "4          NaN    880           880    Monthly          125   Arlington    VA   \n",
       "\n",
       "   latitude  longitude        time  \n",
       "0  389057.0  -769861.0  1577359415  \n",
       "1  379680.0  -876621.0  1577017063  \n",
       "2  388910.0  -770816.0  1577359410  \n",
       "3  476160.0 -1223275.0  1576667743  \n",
       "4  388738.0  -771055.0  1577359401  "
      ]
     },
     "execution_count": 8,
     "metadata": {},
     "output_type": "execute_result"
    }
   ],
   "source": [
    "df.head()"
   ]
  },
  {
   "cell_type": "code",
   "execution_count": 10,
   "metadata": {},
   "outputs": [
    {
     "data": {
      "text/plain": [
       "(10000, 15)"
      ]
     },
     "execution_count": 10,
     "metadata": {},
     "output_type": "execute_result"
    }
   ],
   "source": [
    "df.shape"
   ]
  },
  {
   "cell_type": "code",
   "execution_count": 11,
   "metadata": {},
   "outputs": [
    {
     "data": {
      "text/html": [
       "<div>\n",
       "<style scoped>\n",
       "    .dataframe tbody tr th:only-of-type {\n",
       "        vertical-align: middle;\n",
       "    }\n",
       "\n",
       "    .dataframe tbody tr th {\n",
       "        vertical-align: top;\n",
       "    }\n",
       "\n",
       "    .dataframe thead th {\n",
       "        text-align: right;\n",
       "    }\n",
       "</style>\n",
       "<table border=\"1\" class=\"dataframe\">\n",
       "  <thead>\n",
       "    <tr style=\"text-align: right;\">\n",
       "      <th></th>\n",
       "      <th>bathrooms</th>\n",
       "      <th>bedrooms</th>\n",
       "      <th>price</th>\n",
       "      <th>square_feet</th>\n",
       "      <th>latitude</th>\n",
       "      <th>longitude</th>\n",
       "      <th>time</th>\n",
       "    </tr>\n",
       "  </thead>\n",
       "  <tbody>\n",
       "    <tr>\n",
       "      <th>count</th>\n",
       "      <td>9966.000000</td>\n",
       "      <td>9993.000000</td>\n",
       "      <td>10000.000000</td>\n",
       "      <td>10000.000000</td>\n",
       "      <td>9990.000000</td>\n",
       "      <td>9.990000e+03</td>\n",
       "      <td>1.000000e+04</td>\n",
       "    </tr>\n",
       "    <tr>\n",
       "      <th>mean</th>\n",
       "      <td>1.380544</td>\n",
       "      <td>1.744021</td>\n",
       "      <td>1486.277500</td>\n",
       "      <td>945.810500</td>\n",
       "      <td>376951.620420</td>\n",
       "      <td>-9.465225e+05</td>\n",
       "      <td>1.574891e+09</td>\n",
       "    </tr>\n",
       "    <tr>\n",
       "      <th>std</th>\n",
       "      <td>0.615410</td>\n",
       "      <td>0.942354</td>\n",
       "      <td>1076.507968</td>\n",
       "      <td>655.755736</td>\n",
       "      <td>54958.509131</td>\n",
       "      <td>1.575980e+05</td>\n",
       "      <td>3.762395e+06</td>\n",
       "    </tr>\n",
       "    <tr>\n",
       "      <th>min</th>\n",
       "      <td>1.000000</td>\n",
       "      <td>0.000000</td>\n",
       "      <td>200.000000</td>\n",
       "      <td>101.000000</td>\n",
       "      <td>213155.000000</td>\n",
       "      <td>-1.580221e+06</td>\n",
       "      <td>1.568744e+09</td>\n",
       "    </tr>\n",
       "    <tr>\n",
       "      <th>25%</th>\n",
       "      <td>1.000000</td>\n",
       "      <td>1.000000</td>\n",
       "      <td>949.000000</td>\n",
       "      <td>649.000000</td>\n",
       "      <td>336798.500000</td>\n",
       "      <td>-1.013017e+06</td>\n",
       "      <td>1.568781e+09</td>\n",
       "    </tr>\n",
       "    <tr>\n",
       "      <th>50%</th>\n",
       "      <td>1.000000</td>\n",
       "      <td>2.000000</td>\n",
       "      <td>1270.000000</td>\n",
       "      <td>802.000000</td>\n",
       "      <td>388098.000000</td>\n",
       "      <td>-9.365160e+05</td>\n",
       "      <td>1.577358e+09</td>\n",
       "    </tr>\n",
       "    <tr>\n",
       "      <th>75%</th>\n",
       "      <td>2.000000</td>\n",
       "      <td>2.000000</td>\n",
       "      <td>1695.000000</td>\n",
       "      <td>1100.000000</td>\n",
       "      <td>413498.000000</td>\n",
       "      <td>-8.220998e+05</td>\n",
       "      <td>1.577359e+09</td>\n",
       "    </tr>\n",
       "    <tr>\n",
       "      <th>max</th>\n",
       "      <td>8.500000</td>\n",
       "      <td>9.000000</td>\n",
       "      <td>52500.000000</td>\n",
       "      <td>40000.000000</td>\n",
       "      <td>615940.000000</td>\n",
       "      <td>-7.019160e+05</td>\n",
       "      <td>1.577362e+09</td>\n",
       "    </tr>\n",
       "  </tbody>\n",
       "</table>\n",
       "</div>"
      ],
      "text/plain": [
       "         bathrooms     bedrooms         price   square_feet       latitude  \\\n",
       "count  9966.000000  9993.000000  10000.000000  10000.000000    9990.000000   \n",
       "mean      1.380544     1.744021   1486.277500    945.810500  376951.620420   \n",
       "std       0.615410     0.942354   1076.507968    655.755736   54958.509131   \n",
       "min       1.000000     0.000000    200.000000    101.000000  213155.000000   \n",
       "25%       1.000000     1.000000    949.000000    649.000000  336798.500000   \n",
       "50%       1.000000     2.000000   1270.000000    802.000000  388098.000000   \n",
       "75%       2.000000     2.000000   1695.000000   1100.000000  413498.000000   \n",
       "max       8.500000     9.000000  52500.000000  40000.000000  615940.000000   \n",
       "\n",
       "          longitude          time  \n",
       "count  9.990000e+03  1.000000e+04  \n",
       "mean  -9.465225e+05  1.574891e+09  \n",
       "std    1.575980e+05  3.762395e+06  \n",
       "min   -1.580221e+06  1.568744e+09  \n",
       "25%   -1.013017e+06  1.568781e+09  \n",
       "50%   -9.365160e+05  1.577358e+09  \n",
       "75%   -8.220998e+05  1.577359e+09  \n",
       "max   -7.019160e+05  1.577362e+09  "
      ]
     },
     "execution_count": 11,
     "metadata": {},
     "output_type": "execute_result"
    }
   ],
   "source": [
    "df.describe()"
   ]
  },
  {
   "cell_type": "markdown",
   "metadata": {},
   "source": [
    "### Revisión de Duplicados en el DF"
   ]
  },
  {
   "cell_type": "code",
   "execution_count": 12,
   "metadata": {},
   "outputs": [
    {
     "name": "stdout",
     "output_type": "stream",
     "text": [
      "Numer of Duplicates Entries:8\n"
     ]
    }
   ],
   "source": [
    "duplicates=len(df[df.duplicated()])\n",
    "print(f'Numer of Duplicates Entries:{duplicates}')"
   ]
  },
  {
   "cell_type": "markdown",
   "metadata": {},
   "source": [
    "### Eliminación de Duplicados"
   ]
  },
  {
   "cell_type": "code",
   "execution_count": 13,
   "metadata": {},
   "outputs": [],
   "source": [
    "df=df.drop_duplicates()"
   ]
  },
  {
   "cell_type": "markdown",
   "metadata": {},
   "source": [
    "### Revisar faltantes por columna"
   ]
  },
  {
   "cell_type": "code",
   "execution_count": 15,
   "metadata": {},
   "outputs": [
    {
     "name": "stdout",
     "output_type": "stream",
     "text": [
      "category            0\n",
      "amenities        3545\n",
      "bathrooms          34\n",
      "bedrooms            7\n",
      "has_photo           0\n",
      "pets_allowed     4160\n",
      "price               0\n",
      "price_display       0\n",
      "price_type          0\n",
      "square_feet         0\n",
      "cityname           75\n",
      "state              75\n",
      "latitude           10\n",
      "longitude          10\n",
      "time                0\n",
      "dtype: int64\n"
     ]
    }
   ],
   "source": [
    "print(df.isnull().sum())"
   ]
  },
  {
   "cell_type": "markdown",
   "metadata": {},
   "source": [
    "### Eliminación de algunas columnas con faltantes"
   ]
  },
  {
   "cell_type": "code",
   "execution_count": 16,
   "metadata": {},
   "outputs": [],
   "source": [
    "df=df.drop(['amenities','pets_allowed'],axis=1)"
   ]
  },
  {
   "cell_type": "markdown",
   "metadata": {},
   "source": [
    "### Modificación de faltantes"
   ]
  },
  {
   "cell_type": "code",
   "execution_count": 17,
   "metadata": {},
   "outputs": [],
   "source": [
    "df=df.dropna(subset=['cityname', 'latitude'])"
   ]
  },
  {
   "cell_type": "code",
   "execution_count": 18,
   "metadata": {},
   "outputs": [],
   "source": [
    "df.loc[:,'bathrooms'] = df['bathrooms'].fillna(df['bathrooms'].median())\n",
    "df.loc[:,'bedrooms'] = df['bedrooms'].fillna(df['bedrooms'].median())"
   ]
  },
  {
   "cell_type": "markdown",
   "metadata": {},
   "source": [
    "### Revisión de faltantes"
   ]
  },
  {
   "cell_type": "code",
   "execution_count": 19,
   "metadata": {},
   "outputs": [
    {
     "name": "stdout",
     "output_type": "stream",
     "text": [
      "category         0\n",
      "bathrooms        0\n",
      "bedrooms         0\n",
      "has_photo        0\n",
      "price            0\n",
      "price_display    0\n",
      "price_type       0\n",
      "square_feet      0\n",
      "cityname         0\n",
      "state            0\n",
      "latitude         0\n",
      "longitude        0\n",
      "time             0\n",
      "dtype: int64\n"
     ]
    }
   ],
   "source": [
    "print(df.isnull().sum())"
   ]
  },
  {
   "cell_type": "markdown",
   "metadata": {},
   "source": [
    "### Tipos de datos en el dataset"
   ]
  },
  {
   "cell_type": "code",
   "execution_count": 20,
   "metadata": {},
   "outputs": [
    {
     "name": "stdout",
     "output_type": "stream",
     "text": [
      "Number of Features: 13\n",
      "Number of Customers: 9917\n",
      "Data Types and Frequency in Dataset:\n",
      "object     6\n",
      "float64    4\n",
      "int64      3\n",
      "Name: count, dtype: int64\n"
     ]
    }
   ],
   "source": [
    "types = df.dtypes.value_counts()\n",
    "\n",
    "print('Number of Features: %d'%(df.shape[1]))\n",
    "print('Number of Customers: %d'%(df.shape[0]))\n",
    "print('Data Types and Frequency in Dataset:')\n",
    "print(types)"
   ]
  }
 ],
 "metadata": {
  "language_info": {
   "name": "python"
  }
 },
 "nbformat": 4,
 "nbformat_minor": 2
}
