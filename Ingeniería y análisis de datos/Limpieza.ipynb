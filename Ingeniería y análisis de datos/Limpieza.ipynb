{
 "cells": [
  {
   "cell_type": "markdown",
   "metadata": {},
   "source": [
    "# Limpieza de Datos"
   ]
  },
  {
   "cell_type": "markdown",
   "metadata": {},
   "source": [
    "### Importar librerias"
   ]
  },
  {
   "cell_type": "code",
   "execution_count": 611,
   "metadata": {},
   "outputs": [],
   "source": [
    "import pandas as pd\n",
    "import matplotlib.pyplot as plt"
   ]
  },
  {
   "cell_type": "markdown",
   "metadata": {},
   "source": [
    "### Cargar Archivo CSV"
   ]
  },
  {
   "cell_type": "code",
   "execution_count": 612,
   "metadata": {},
   "outputs": [],
   "source": [
    "df=pd.read_csv(\"datos_apartamentos_rent.csv\")"
   ]
  },
  {
   "cell_type": "markdown",
   "metadata": {},
   "source": [
    "### Eliminación de variables descriptivas o poco significativas"
   ]
  },
  {
   "cell_type": "code",
   "execution_count": 613,
   "metadata": {},
   "outputs": [],
   "source": [
    "df=df.drop(['id','title','body','currency','fee','price_display','address','source','cityname'],axis=1)\n"
   ]
  },
  {
   "cell_type": "code",
   "execution_count": 614,
   "metadata": {},
   "outputs": [
    {
     "data": {
      "text/html": [
       "<div>\n",
       "<style scoped>\n",
       "    .dataframe tbody tr th:only-of-type {\n",
       "        vertical-align: middle;\n",
       "    }\n",
       "\n",
       "    .dataframe tbody tr th {\n",
       "        vertical-align: top;\n",
       "    }\n",
       "\n",
       "    .dataframe thead th {\n",
       "        text-align: right;\n",
       "    }\n",
       "</style>\n",
       "<table border=\"1\" class=\"dataframe\">\n",
       "  <thead>\n",
       "    <tr style=\"text-align: right;\">\n",
       "      <th></th>\n",
       "      <th>category</th>\n",
       "      <th>amenities</th>\n",
       "      <th>bathrooms</th>\n",
       "      <th>bedrooms</th>\n",
       "      <th>has_photo</th>\n",
       "      <th>pets_allowed</th>\n",
       "      <th>price</th>\n",
       "      <th>price_type</th>\n",
       "      <th>square_feet</th>\n",
       "      <th>state</th>\n",
       "      <th>latitude</th>\n",
       "      <th>longitude</th>\n",
       "      <th>time</th>\n",
       "    </tr>\n",
       "  </thead>\n",
       "  <tbody>\n",
       "    <tr>\n",
       "      <th>0</th>\n",
       "      <td>housing/rent/apartment</td>\n",
       "      <td>NaN</td>\n",
       "      <td>NaN</td>\n",
       "      <td>0.0</td>\n",
       "      <td>Thumbnail</td>\n",
       "      <td>NaN</td>\n",
       "      <td>790</td>\n",
       "      <td>Monthly</td>\n",
       "      <td>101</td>\n",
       "      <td>DC</td>\n",
       "      <td>389057.0</td>\n",
       "      <td>-769861.0</td>\n",
       "      <td>1577359415</td>\n",
       "    </tr>\n",
       "    <tr>\n",
       "      <th>1</th>\n",
       "      <td>housing/rent/apartment</td>\n",
       "      <td>NaN</td>\n",
       "      <td>NaN</td>\n",
       "      <td>1.0</td>\n",
       "      <td>Thumbnail</td>\n",
       "      <td>NaN</td>\n",
       "      <td>425</td>\n",
       "      <td>Monthly</td>\n",
       "      <td>106</td>\n",
       "      <td>IN</td>\n",
       "      <td>379680.0</td>\n",
       "      <td>-876621.0</td>\n",
       "      <td>1577017063</td>\n",
       "    </tr>\n",
       "    <tr>\n",
       "      <th>2</th>\n",
       "      <td>housing/rent/apartment</td>\n",
       "      <td>NaN</td>\n",
       "      <td>1.0</td>\n",
       "      <td>0.0</td>\n",
       "      <td>Thumbnail</td>\n",
       "      <td>NaN</td>\n",
       "      <td>1390</td>\n",
       "      <td>Monthly</td>\n",
       "      <td>107</td>\n",
       "      <td>VA</td>\n",
       "      <td>388910.0</td>\n",
       "      <td>-770816.0</td>\n",
       "      <td>1577359410</td>\n",
       "    </tr>\n",
       "    <tr>\n",
       "      <th>3</th>\n",
       "      <td>housing/rent/apartment</td>\n",
       "      <td>NaN</td>\n",
       "      <td>1.0</td>\n",
       "      <td>0.0</td>\n",
       "      <td>Thumbnail</td>\n",
       "      <td>NaN</td>\n",
       "      <td>925</td>\n",
       "      <td>Monthly</td>\n",
       "      <td>116</td>\n",
       "      <td>WA</td>\n",
       "      <td>476160.0</td>\n",
       "      <td>-1223275.0</td>\n",
       "      <td>1576667743</td>\n",
       "    </tr>\n",
       "    <tr>\n",
       "      <th>4</th>\n",
       "      <td>housing/rent/apartment</td>\n",
       "      <td>NaN</td>\n",
       "      <td>NaN</td>\n",
       "      <td>0.0</td>\n",
       "      <td>Thumbnail</td>\n",
       "      <td>NaN</td>\n",
       "      <td>880</td>\n",
       "      <td>Monthly</td>\n",
       "      <td>125</td>\n",
       "      <td>VA</td>\n",
       "      <td>388738.0</td>\n",
       "      <td>-771055.0</td>\n",
       "      <td>1577359401</td>\n",
       "    </tr>\n",
       "  </tbody>\n",
       "</table>\n",
       "</div>"
      ],
      "text/plain": [
       "                 category amenities  bathrooms  bedrooms  has_photo  \\\n",
       "0  housing/rent/apartment       NaN        NaN       0.0  Thumbnail   \n",
       "1  housing/rent/apartment       NaN        NaN       1.0  Thumbnail   \n",
       "2  housing/rent/apartment       NaN        1.0       0.0  Thumbnail   \n",
       "3  housing/rent/apartment       NaN        1.0       0.0  Thumbnail   \n",
       "4  housing/rent/apartment       NaN        NaN       0.0  Thumbnail   \n",
       "\n",
       "  pets_allowed  price price_type  square_feet state  latitude  longitude  \\\n",
       "0          NaN    790    Monthly          101    DC  389057.0  -769861.0   \n",
       "1          NaN    425    Monthly          106    IN  379680.0  -876621.0   \n",
       "2          NaN   1390    Monthly          107    VA  388910.0  -770816.0   \n",
       "3          NaN    925    Monthly          116    WA  476160.0 -1223275.0   \n",
       "4          NaN    880    Monthly          125    VA  388738.0  -771055.0   \n",
       "\n",
       "         time  \n",
       "0  1577359415  \n",
       "1  1577017063  \n",
       "2  1577359410  \n",
       "3  1576667743  \n",
       "4  1577359401  "
      ]
     },
     "execution_count": 614,
     "metadata": {},
     "output_type": "execute_result"
    }
   ],
   "source": [
    "df.head()"
   ]
  },
  {
   "cell_type": "code",
   "execution_count": 615,
   "metadata": {},
   "outputs": [
    {
     "data": {
      "text/plain": [
       "(10000, 13)"
      ]
     },
     "execution_count": 615,
     "metadata": {},
     "output_type": "execute_result"
    }
   ],
   "source": [
    "df.shape"
   ]
  },
  {
   "cell_type": "code",
   "execution_count": 616,
   "metadata": {},
   "outputs": [
    {
     "data": {
      "text/html": [
       "<div>\n",
       "<style scoped>\n",
       "    .dataframe tbody tr th:only-of-type {\n",
       "        vertical-align: middle;\n",
       "    }\n",
       "\n",
       "    .dataframe tbody tr th {\n",
       "        vertical-align: top;\n",
       "    }\n",
       "\n",
       "    .dataframe thead th {\n",
       "        text-align: right;\n",
       "    }\n",
       "</style>\n",
       "<table border=\"1\" class=\"dataframe\">\n",
       "  <thead>\n",
       "    <tr style=\"text-align: right;\">\n",
       "      <th></th>\n",
       "      <th>bathrooms</th>\n",
       "      <th>bedrooms</th>\n",
       "      <th>price</th>\n",
       "      <th>square_feet</th>\n",
       "      <th>latitude</th>\n",
       "      <th>longitude</th>\n",
       "      <th>time</th>\n",
       "    </tr>\n",
       "  </thead>\n",
       "  <tbody>\n",
       "    <tr>\n",
       "      <th>count</th>\n",
       "      <td>9966.000000</td>\n",
       "      <td>9993.000000</td>\n",
       "      <td>10000.000000</td>\n",
       "      <td>10000.000000</td>\n",
       "      <td>9990.000000</td>\n",
       "      <td>9.990000e+03</td>\n",
       "      <td>1.000000e+04</td>\n",
       "    </tr>\n",
       "    <tr>\n",
       "      <th>mean</th>\n",
       "      <td>1.380544</td>\n",
       "      <td>1.744021</td>\n",
       "      <td>1486.277500</td>\n",
       "      <td>945.810500</td>\n",
       "      <td>376951.620420</td>\n",
       "      <td>-9.465225e+05</td>\n",
       "      <td>1.574891e+09</td>\n",
       "    </tr>\n",
       "    <tr>\n",
       "      <th>std</th>\n",
       "      <td>0.615410</td>\n",
       "      <td>0.942354</td>\n",
       "      <td>1076.507968</td>\n",
       "      <td>655.755736</td>\n",
       "      <td>54958.509131</td>\n",
       "      <td>1.575980e+05</td>\n",
       "      <td>3.762395e+06</td>\n",
       "    </tr>\n",
       "    <tr>\n",
       "      <th>min</th>\n",
       "      <td>1.000000</td>\n",
       "      <td>0.000000</td>\n",
       "      <td>200.000000</td>\n",
       "      <td>101.000000</td>\n",
       "      <td>213155.000000</td>\n",
       "      <td>-1.580221e+06</td>\n",
       "      <td>1.568744e+09</td>\n",
       "    </tr>\n",
       "    <tr>\n",
       "      <th>25%</th>\n",
       "      <td>1.000000</td>\n",
       "      <td>1.000000</td>\n",
       "      <td>949.000000</td>\n",
       "      <td>649.000000</td>\n",
       "      <td>336798.500000</td>\n",
       "      <td>-1.013017e+06</td>\n",
       "      <td>1.568781e+09</td>\n",
       "    </tr>\n",
       "    <tr>\n",
       "      <th>50%</th>\n",
       "      <td>1.000000</td>\n",
       "      <td>2.000000</td>\n",
       "      <td>1270.000000</td>\n",
       "      <td>802.000000</td>\n",
       "      <td>388098.000000</td>\n",
       "      <td>-9.365160e+05</td>\n",
       "      <td>1.577358e+09</td>\n",
       "    </tr>\n",
       "    <tr>\n",
       "      <th>75%</th>\n",
       "      <td>2.000000</td>\n",
       "      <td>2.000000</td>\n",
       "      <td>1695.000000</td>\n",
       "      <td>1100.000000</td>\n",
       "      <td>413498.000000</td>\n",
       "      <td>-8.220998e+05</td>\n",
       "      <td>1.577359e+09</td>\n",
       "    </tr>\n",
       "    <tr>\n",
       "      <th>max</th>\n",
       "      <td>8.500000</td>\n",
       "      <td>9.000000</td>\n",
       "      <td>52500.000000</td>\n",
       "      <td>40000.000000</td>\n",
       "      <td>615940.000000</td>\n",
       "      <td>-7.019160e+05</td>\n",
       "      <td>1.577362e+09</td>\n",
       "    </tr>\n",
       "  </tbody>\n",
       "</table>\n",
       "</div>"
      ],
      "text/plain": [
       "         bathrooms     bedrooms         price   square_feet       latitude  \\\n",
       "count  9966.000000  9993.000000  10000.000000  10000.000000    9990.000000   \n",
       "mean      1.380544     1.744021   1486.277500    945.810500  376951.620420   \n",
       "std       0.615410     0.942354   1076.507968    655.755736   54958.509131   \n",
       "min       1.000000     0.000000    200.000000    101.000000  213155.000000   \n",
       "25%       1.000000     1.000000    949.000000    649.000000  336798.500000   \n",
       "50%       1.000000     2.000000   1270.000000    802.000000  388098.000000   \n",
       "75%       2.000000     2.000000   1695.000000   1100.000000  413498.000000   \n",
       "max       8.500000     9.000000  52500.000000  40000.000000  615940.000000   \n",
       "\n",
       "          longitude          time  \n",
       "count  9.990000e+03  1.000000e+04  \n",
       "mean  -9.465225e+05  1.574891e+09  \n",
       "std    1.575980e+05  3.762395e+06  \n",
       "min   -1.580221e+06  1.568744e+09  \n",
       "25%   -1.013017e+06  1.568781e+09  \n",
       "50%   -9.365160e+05  1.577358e+09  \n",
       "75%   -8.220998e+05  1.577359e+09  \n",
       "max   -7.019160e+05  1.577362e+09  "
      ]
     },
     "execution_count": 616,
     "metadata": {},
     "output_type": "execute_result"
    }
   ],
   "source": [
    "df.describe()"
   ]
  },
  {
   "cell_type": "markdown",
   "metadata": {},
   "source": [
    "### Revisión de Duplicados en el DF"
   ]
  },
  {
   "cell_type": "code",
   "execution_count": 617,
   "metadata": {},
   "outputs": [
    {
     "name": "stdout",
     "output_type": "stream",
     "text": [
      "Numer of Duplicates Entries:8\n"
     ]
    }
   ],
   "source": [
    "duplicates=len(df[df.duplicated()])\n",
    "print(f'Numer of Duplicates Entries:{duplicates}')"
   ]
  },
  {
   "cell_type": "markdown",
   "metadata": {},
   "source": [
    "### Eliminación de Duplicados"
   ]
  },
  {
   "cell_type": "code",
   "execution_count": 618,
   "metadata": {},
   "outputs": [],
   "source": [
    "df=df.drop_duplicates()"
   ]
  },
  {
   "cell_type": "markdown",
   "metadata": {},
   "source": [
    "### Revisar faltantes por columna"
   ]
  },
  {
   "cell_type": "code",
   "execution_count": 619,
   "metadata": {},
   "outputs": [
    {
     "name": "stdout",
     "output_type": "stream",
     "text": [
      "category           0\n",
      "amenities       3545\n",
      "bathrooms         34\n",
      "bedrooms           7\n",
      "has_photo          0\n",
      "pets_allowed    4160\n",
      "price              0\n",
      "price_type         0\n",
      "square_feet        0\n",
      "state             75\n",
      "latitude          10\n",
      "longitude         10\n",
      "time               0\n",
      "dtype: int64\n"
     ]
    }
   ],
   "source": [
    "print(df.isnull().sum())"
   ]
  },
  {
   "cell_type": "markdown",
   "metadata": {},
   "source": [
    "### Eliminación de algunas columnas con faltantes"
   ]
  },
  {
   "cell_type": "code",
   "execution_count": 620,
   "metadata": {},
   "outputs": [],
   "source": [
    "df=df.drop(['amenities','pets_allowed'],axis=1)"
   ]
  },
  {
   "cell_type": "markdown",
   "metadata": {},
   "source": [
    "### Modificación de faltantes"
   ]
  },
  {
   "cell_type": "code",
   "execution_count": 621,
   "metadata": {},
   "outputs": [],
   "source": [
    "df=df.dropna(subset=['state', 'latitude'])"
   ]
  },
  {
   "cell_type": "code",
   "execution_count": 622,
   "metadata": {},
   "outputs": [],
   "source": [
    "df.loc[:,'bathrooms'] = df['bathrooms'].fillna(df['bathrooms'].median())\n",
    "df.loc[:,'bedrooms'] = df['bedrooms'].fillna(df['bedrooms'].median())"
   ]
  },
  {
   "cell_type": "markdown",
   "metadata": {},
   "source": [
    "### Revisión de faltantes"
   ]
  },
  {
   "cell_type": "code",
   "execution_count": 623,
   "metadata": {},
   "outputs": [
    {
     "name": "stdout",
     "output_type": "stream",
     "text": [
      "category       0\n",
      "bathrooms      0\n",
      "bedrooms       0\n",
      "has_photo      0\n",
      "price          0\n",
      "price_type     0\n",
      "square_feet    0\n",
      "state          0\n",
      "latitude       0\n",
      "longitude      0\n",
      "time           0\n",
      "dtype: int64\n"
     ]
    }
   ],
   "source": [
    "print(df.isnull().sum())"
   ]
  },
  {
   "cell_type": "markdown",
   "metadata": {},
   "source": [
    "### Tipos de datos en el dataset"
   ]
  },
  {
   "cell_type": "code",
   "execution_count": 624,
   "metadata": {},
   "outputs": [
    {
     "name": "stdout",
     "output_type": "stream",
     "text": [
      "Number of Features: 11\n",
      "Number of Customers: 9917\n",
      "Data Types and Frequency in Dataset:\n",
      "object     4\n",
      "float64    4\n",
      "int64      3\n",
      "Name: count, dtype: int64\n"
     ]
    }
   ],
   "source": [
    "types = df.dtypes.value_counts()\n",
    "\n",
    "print('Number of Features: %d'%(df.shape[1]))\n",
    "print('Number of Customers: %d'%(df.shape[0]))\n",
    "print('Data Types and Frequency in Dataset:')\n",
    "print(types)"
   ]
  },
  {
   "cell_type": "markdown",
   "metadata": {},
   "source": [
    "### Análisis de valores atipicos"
   ]
  },
  {
   "cell_type": "code",
   "execution_count": 625,
   "metadata": {},
   "outputs": [
    {
     "name": "stdout",
     "output_type": "stream",
     "text": [
      "      bathrooms  latitude  longitude\n",
      "0         False     False      False\n",
      "1         False     False      False\n",
      "2         False     False      False\n",
      "3         False     False      False\n",
      "4         False     False      False\n",
      "...         ...       ...        ...\n",
      "9995       True     False      False\n",
      "9996       True     False      False\n",
      "9997       True     False      False\n",
      "9998      False     False      False\n",
      "9999      False     False      False\n",
      "\n",
      "[9917 rows x 3 columns]\n"
     ]
    }
   ],
   "source": [
    "# Seleccionar solo las dos columnas deseadas\n",
    "columnas_seleccionadas = ['bathrooms', 'latitude','longitude']\n",
    "datos_seleccionados = df[columnas_seleccionadas]\n",
    "\n",
    "# Calcular cuartiles e IQR\n",
    "Q1 = datos_seleccionados.quantile(0.25)\n",
    "Q3 = datos_seleccionados.quantile(0.75)\n",
    "IQR = Q3 - Q1\n",
    "\n",
    "# Identificar outliers\n",
    "outliers1 = ((datos_seleccionados < (Q1 - 1.5 * IQR)) | (datos_seleccionados > (Q3 + 1.5 * IQR)))\n",
    "\n",
    "print(outliers1)\n"
   ]
  },
  {
   "cell_type": "code",
   "execution_count": 626,
   "metadata": {},
   "outputs": [
    {
     "name": "stdout",
     "output_type": "stream",
     "text": [
      "bathrooms    72\n",
      "latitude     56\n",
      "longitude    56\n",
      "dtype: int64\n"
     ]
    }
   ],
   "source": [
    "print(outliers1.sum())"
   ]
  },
  {
   "cell_type": "code",
   "execution_count": 627,
   "metadata": {},
   "outputs": [
    {
     "name": "stdout",
     "output_type": "stream",
     "text": [
      "                    category  bathrooms  bedrooms  has_photo  price  \\\n",
      "0     housing/rent/apartment        1.0       0.0  Thumbnail    790   \n",
      "1     housing/rent/apartment        1.0       1.0  Thumbnail    425   \n",
      "2     housing/rent/apartment        1.0       0.0  Thumbnail   1390   \n",
      "3     housing/rent/apartment        1.0       0.0  Thumbnail    925   \n",
      "4     housing/rent/apartment        1.0       0.0  Thumbnail    880   \n",
      "...                      ...        ...       ...        ...    ...   \n",
      "9982  housing/rent/apartment        3.5       5.0  Thumbnail   2395   \n",
      "9983  housing/rent/apartment        3.5       4.0  Thumbnail   7800   \n",
      "9989  housing/rent/apartment        3.5       5.0  Thumbnail   3980   \n",
      "9998  housing/rent/apartment        1.0       1.0  Thumbnail   4790   \n",
      "9999  housing/rent/apartment        1.0       1.0         No   1009   \n",
      "\n",
      "     price_type  square_feet state  latitude  longitude        time  \n",
      "0       Monthly          101    DC  389057.0  -769861.0  1577359415  \n",
      "1       Monthly          106    IN  379680.0  -876621.0  1577017063  \n",
      "2       Monthly          107    VA  388910.0  -770816.0  1577359410  \n",
      "3       Monthly          116    WA  476160.0 -1223275.0  1576667743  \n",
      "4       Monthly          125    VA  388738.0  -771055.0  1577359401  \n",
      "...         ...          ...   ...       ...        ...         ...  \n",
      "9982    Monthly         4614    TX  297714.0  -954343.0  1577359429  \n",
      "9983    Monthly         4650    AZ  335783.0 -1118902.0  1577360165  \n",
      "9989    Monthly         4970    CO  398228.0 -1051107.0  1577360528  \n",
      "9998    Monthly        40000    NY  407716.0  -739876.0  1577362186  \n",
      "9999    Monthly          880    GA  340072.0  -840034.0  1577362141  \n",
      "\n",
      "[9790 rows x 11 columns]\n"
     ]
    }
   ],
   "source": [
    "df_cleaned=df[(outliers1==False).all(axis=1)]\n",
    "print(df_cleaned)"
   ]
  },
  {
   "cell_type": "code",
   "execution_count": 628,
   "metadata": {},
   "outputs": [
    {
     "data": {
      "image/png": "[encoded data removed]",
      "text/plain": [
       "<Figure size 800x600 with 1 Axes>"
      ]
     },
     "metadata": {},
     "output_type": "display_data"
    },
    {
     "data": {
      "image/png": "[encoded data removed]",
      "text/plain": [
       "<Figure size 800x600 with 1 Axes>"
      ]
     },
     "metadata": {},
     "output_type": "display_data"
    },
    {
     "data": {
      "image/png": "[encoded data removed]",
      "text/plain": [
       "<Figure size 800x600 with 1 Axes>"
      ]
     },
     "metadata": {},
     "output_type": "display_data"
    }
   ],
   "source": [
    "for column in datos_seleccionados.columns:\n",
    "    plt.figure(figsize=(8, 6))\n",
    "    df_cleaned[column].plot(kind='box')\n",
    "    plt.title(f'Box Plot: {column}')\n",
    "    plt.xlabel('Índice de Observación')\n",
    "    plt.ylabel(column)\n",
    "    plt.show()"
   ]
  },
  {
   "cell_type": "code",
   "execution_count": 629,
   "metadata": {},
   "outputs": [
    {
     "name": "stdout",
     "output_type": "stream",
     "text": [
      "                    category  bathrooms  bedrooms  has_photo  price  \\\n",
      "7907  housing/rent/apartment        2.0       5.0  Thumbnail   7400   \n",
      "8485  housing/rent/apartment        2.0       5.0  Thumbnail   2625   \n",
      "8565  housing/rent/apartment        2.0       5.0  Thumbnail   4200   \n",
      "8722  housing/rent/apartment        1.0       5.0  Thumbnail   2495   \n",
      "8736  housing/rent/apartment        2.0       5.0  Thumbnail   1995   \n",
      "...                      ...        ...       ...        ...    ...   \n",
      "9993  housing/rent/apartment        5.0       5.0  Thumbnail   6900   \n",
      "9994  housing/rent/apartment        4.0       6.0  Thumbnail   3000   \n",
      "9995  housing/rent/apartment        4.0       5.0  Thumbnail   6000   \n",
      "9996  housing/rent/apartment        8.0       6.0  Thumbnail  25000   \n",
      "9997  housing/rent/apartment        8.5       6.0  Thumbnail  11000   \n",
      "\n",
      "     price_type  square_feet state  latitude  longitude        time  \n",
      "7907    Monthly         1170    CA  377599.0 -1224379.0  1577359542  \n",
      "8485    Monthly         1300    KY  380172.0  -844931.0  1577016813  \n",
      "8565    Monthly         1320    MI  422711.0  -837450.0  1577359449  \n",
      "8722    Monthly         1386    WI  430724.0  -894003.0  1577015509  \n",
      "8736    Monthly         1393    WI  430724.0  -894003.0  1577015517  \n",
      "...         ...          ...   ...       ...        ...         ...  \n",
      "9993    Monthly         5700    FL  281253.0  -824468.0  1577359442  \n",
      "9994    Monthly         5921    UT  370835.0 -1135823.0  1577017103  \n",
      "9995    Monthly         6300    MN  449000.0  -933233.0  1575112975  \n",
      "9996    Monthly         8716    CA  344331.0 -1196331.0  1577360419  \n",
      "9997    Monthly        11318    MD  390287.0  -772409.0  1577360560  \n",
      "\n",
      "[109 rows x 11 columns]\n"
     ]
    }
   ],
   "source": [
    "outliers_bedrooms=df[df['bedrooms']>4]\n",
    "print(outliers_bedrooms)"
   ]
  },
  {
   "cell_type": "code",
   "execution_count": 630,
   "metadata": {},
   "outputs": [
    {
     "name": "stdout",
     "output_type": "stream",
     "text": [
      "                    category  bathrooms  bedrooms  has_photo  price  \\\n",
      "0     housing/rent/apartment        1.0       0.0  Thumbnail    790   \n",
      "1     housing/rent/apartment        1.0       1.0  Thumbnail    425   \n",
      "2     housing/rent/apartment        1.0       0.0  Thumbnail   1390   \n",
      "3     housing/rent/apartment        1.0       0.0  Thumbnail    925   \n",
      "4     housing/rent/apartment        1.0       0.0  Thumbnail    880   \n",
      "...                      ...        ...       ...        ...    ...   \n",
      "9983  housing/rent/apartment        3.5       4.0  Thumbnail   7800   \n",
      "9990  housing/rent/apartment        5.0       4.0  Thumbnail  19500   \n",
      "9992  housing/rent/apartment        5.0       4.0  Thumbnail   4500   \n",
      "9998  housing/rent/apartment        1.0       1.0  Thumbnail   4790   \n",
      "9999  housing/rent/apartment        1.0       1.0         No   1009   \n",
      "\n",
      "     price_type  square_feet state  latitude  longitude        time  \n",
      "0       Monthly          101    DC  389057.0  -769861.0  1577359415  \n",
      "1       Monthly          106    IN  379680.0  -876621.0  1577017063  \n",
      "2       Monthly          107    VA  388910.0  -770816.0  1577359410  \n",
      "3       Monthly          116    WA  476160.0 -1223275.0  1576667743  \n",
      "4       Monthly          125    VA  388738.0  -771055.0  1577359401  \n",
      "...         ...          ...   ...       ...        ...         ...  \n",
      "9983    Monthly         4650    AZ  335783.0 -1118902.0  1577360165  \n",
      "9990    Monthly         5000    CA  340372.0 -1182972.0  1576666648  \n",
      "9992    Monthly         5407    MN  448653.0  -934749.0  1576667692  \n",
      "9998    Monthly        40000    NY  407716.0  -739876.0  1577362186  \n",
      "9999    Monthly          880    GA  340072.0  -840034.0  1577362141  \n",
      "\n",
      "[9808 rows x 11 columns]\n"
     ]
    },
    {
     "data": {
      "image/png": "[encoded data removed]",
      "text/plain": [
       "<Figure size 800x600 with 1 Axes>"
      ]
     },
     "metadata": {},
     "output_type": "display_data"
    }
   ],
   "source": [
    "df_cleaned = df.drop(outliers_bedrooms.index)\n",
    "print(df_cleaned)\n",
    "\n",
    "plt.figure(figsize=(8, 6))\n",
    "df_cleaned['bedrooms'].plot(kind='box')\n",
    "plt.title('Box Plot: bedrooms')\n",
    "plt.xlabel('Índice de Observación')\n",
    "plt.ylabel('bedrooms')\n",
    "plt.show() \n"
   ]
  },
  {
   "cell_type": "code",
   "execution_count": 631,
   "metadata": {},
   "outputs": [
    {
     "name": "stdout",
     "output_type": "stream",
     "text": [
      "                    category  bathrooms  bedrooms  has_photo  price  \\\n",
      "8573  housing/rent/apartment        2.0       2.0  Thumbnail  11000   \n",
      "8581  housing/rent/apartment        2.0       2.0  Thumbnail  13500   \n",
      "8829  housing/rent/apartment        1.0       0.0  Thumbnail  52500   \n",
      "9227  housing/rent/apartment        2.0       2.0  Thumbnail  10600   \n",
      "9825  housing/rent/apartment        3.0       3.0  Thumbnail  13000   \n",
      "9946  housing/rent/apartment        1.0       5.0  Thumbnail  11000   \n",
      "9972  housing/rent/apartment        4.0       6.0  Thumbnail  14950   \n",
      "9990  housing/rent/apartment        5.0       4.0  Thumbnail  19500   \n",
      "9996  housing/rent/apartment        8.0       6.0  Thumbnail  25000   \n",
      "9997  housing/rent/apartment        8.5       6.0  Thumbnail  11000   \n",
      "\n",
      "     price_type  square_feet state  latitude  longitude        time  \n",
      "8573    Monthly         1322    CA  326596.0 -1171595.0  1577360129  \n",
      "8581    Monthly         1325    CA  340630.0 -1184363.0  1568748646  \n",
      "8829    Monthly         1418    CA  348870.0 -1170350.0  1577185712  \n",
      "9227    Monthly         1636    CA  340584.0 -1184135.0  1568759208  \n",
      "9825    Monthly         2530    CA  340394.0 -1182656.0  1568745642  \n",
      "9946    Monthly         3395    FL  260121.0  -802453.0  1576100567  \n",
      "9972    Monthly         4044    CA  340372.0 -1182972.0  1577015930  \n",
      "9990    Monthly         5000    CA  340372.0 -1182972.0  1576666648  \n",
      "9996    Monthly         8716    CA  344331.0 -1196331.0  1577360419  \n",
      "9997    Monthly        11318    MD  390287.0  -772409.0  1577360560  \n",
      "                    category  bathrooms  bedrooms  has_photo  price  \\\n",
      "9996  housing/rent/apartment        8.0       6.0  Thumbnail  25000   \n",
      "9997  housing/rent/apartment        8.5       6.0  Thumbnail  11000   \n",
      "9998  housing/rent/apartment        1.0       1.0  Thumbnail   4790   \n",
      "\n",
      "     price_type  square_feet state  latitude  longitude        time  \n",
      "9996    Monthly         8716    CA  344331.0 -1196331.0  1577360419  \n",
      "9997    Monthly        11318    MD  390287.0  -772409.0  1577360560  \n",
      "9998    Monthly        40000    NY  407716.0  -739876.0  1577362186  \n"
     ]
    }
   ],
   "source": [
    "outliers_price=df[df['price']>10000]\n",
    "print(outliers_price)\n",
    "outliers_sqfeet=df[df['square_feet']>8000]\n",
    "print(outliers_sqfeet)"
   ]
  },
  {
   "cell_type": "code",
   "execution_count": 632,
   "metadata": {},
   "outputs": [
    {
     "name": "stdout",
     "output_type": "stream",
     "text": [
      "                    category  bathrooms  bedrooms  has_photo  price  \\\n",
      "0     housing/rent/apartment        1.0       0.0  Thumbnail    790   \n",
      "1     housing/rent/apartment        1.0       1.0  Thumbnail    425   \n",
      "2     housing/rent/apartment        1.0       0.0  Thumbnail   1390   \n",
      "3     housing/rent/apartment        1.0       0.0  Thumbnail    925   \n",
      "4     housing/rent/apartment        1.0       0.0  Thumbnail    880   \n",
      "...                      ...        ...       ...        ...    ...   \n",
      "9993  housing/rent/apartment        5.0       5.0  Thumbnail   6900   \n",
      "9994  housing/rent/apartment        4.0       6.0  Thumbnail   3000   \n",
      "9995  housing/rent/apartment        4.0       5.0  Thumbnail   6000   \n",
      "9998  housing/rent/apartment        1.0       1.0  Thumbnail   4790   \n",
      "9999  housing/rent/apartment        1.0       1.0         No   1009   \n",
      "\n",
      "     price_type  square_feet state  latitude  longitude        time  \n",
      "0       Monthly          101    DC  389057.0  -769861.0  1577359415  \n",
      "1       Monthly          106    IN  379680.0  -876621.0  1577017063  \n",
      "2       Monthly          107    VA  388910.0  -770816.0  1577359410  \n",
      "3       Monthly          116    WA  476160.0 -1223275.0  1576667743  \n",
      "4       Monthly          125    VA  388738.0  -771055.0  1577359401  \n",
      "...         ...          ...   ...       ...        ...         ...  \n",
      "9993    Monthly         5700    FL  281253.0  -824468.0  1577359442  \n",
      "9994    Monthly         5921    UT  370835.0 -1135823.0  1577017103  \n",
      "9995    Monthly         6300    MN  449000.0  -933233.0  1575112975  \n",
      "9998    Monthly        40000    NY  407716.0  -739876.0  1577362186  \n",
      "9999    Monthly          880    GA  340072.0  -840034.0  1577362141  \n",
      "\n",
      "[9907 rows x 11 columns]\n"
     ]
    },
    {
     "data": {
      "image/png": "[encoded data removed]",
      "text/plain": [
       "<Figure size 800x600 with 1 Axes>"
      ]
     },
     "metadata": {},
     "output_type": "display_data"
    }
   ],
   "source": [
    "df_cleaned = df.drop(outliers_price.index)\n",
    "print(df_cleaned)\n",
    "\n",
    "plt.figure(figsize=(8, 6))\n",
    "df_cleaned['price'].plot(kind='box')\n",
    "plt.title('Box Plot: price')\n",
    "plt.xlabel('Índice de Observación')\n",
    "plt.ylabel('price')\n",
    "plt.show() "
   ]
  },
  {
   "cell_type": "code",
   "execution_count": 633,
   "metadata": {},
   "outputs": [
    {
     "name": "stdout",
     "output_type": "stream",
     "text": [
      "                    category  bathrooms  bedrooms  has_photo  price  \\\n",
      "0     housing/rent/apartment        1.0       0.0  Thumbnail    790   \n",
      "1     housing/rent/apartment        1.0       1.0  Thumbnail    425   \n",
      "2     housing/rent/apartment        1.0       0.0  Thumbnail   1390   \n",
      "3     housing/rent/apartment        1.0       0.0  Thumbnail    925   \n",
      "4     housing/rent/apartment        1.0       0.0  Thumbnail    880   \n",
      "...                      ...        ...       ...        ...    ...   \n",
      "9992  housing/rent/apartment        5.0       4.0  Thumbnail   4500   \n",
      "9993  housing/rent/apartment        5.0       5.0  Thumbnail   6900   \n",
      "9994  housing/rent/apartment        4.0       6.0  Thumbnail   3000   \n",
      "9995  housing/rent/apartment        4.0       5.0  Thumbnail   6000   \n",
      "9999  housing/rent/apartment        1.0       1.0         No   1009   \n",
      "\n",
      "     price_type  square_feet state  latitude  longitude        time  \n",
      "0       Monthly          101    DC  389057.0  -769861.0  1577359415  \n",
      "1       Monthly          106    IN  379680.0  -876621.0  1577017063  \n",
      "2       Monthly          107    VA  388910.0  -770816.0  1577359410  \n",
      "3       Monthly          116    WA  476160.0 -1223275.0  1576667743  \n",
      "4       Monthly          125    VA  388738.0  -771055.0  1577359401  \n",
      "...         ...          ...   ...       ...        ...         ...  \n",
      "9992    Monthly         5407    MN  448653.0  -934749.0  1576667692  \n",
      "9993    Monthly         5700    FL  281253.0  -824468.0  1577359442  \n",
      "9994    Monthly         5921    UT  370835.0 -1135823.0  1577017103  \n",
      "9995    Monthly         6300    MN  449000.0  -933233.0  1575112975  \n",
      "9999    Monthly          880    GA  340072.0  -840034.0  1577362141  \n",
      "\n",
      "[9914 rows x 11 columns]\n"
     ]
    },
    {
     "data": {
      "image/png": "[encoded data removed]",
      "text/plain": [
       "<Figure size 800x600 with 1 Axes>"
      ]
     },
     "metadata": {},
     "output_type": "display_data"
    }
   ],
   "source": [
    "df_cleaned = df.drop(outliers_sqfeet.index)\n",
    "print(df_cleaned)\n",
    "\n",
    "plt.figure(figsize=(8, 6))\n",
    "df_cleaned['square_feet'].plot(kind='box')\n",
    "plt.title('Box Plot: square feet')\n",
    "plt.xlabel('Índice de Observación')\n",
    "plt.ylabel('square feet')\n",
    "plt.show() "
   ]
  },
  {
   "cell_type": "code",
   "execution_count": 634,
   "metadata": {},
   "outputs": [
    {
     "name": "stdout",
     "output_type": "stream",
     "text": [
      "                    category  bathrooms  bedrooms  has_photo  price  \\\n",
      "0     housing/rent/apartment        1.0       0.0  Thumbnail    790   \n",
      "1     housing/rent/apartment        1.0       1.0  Thumbnail    425   \n",
      "2     housing/rent/apartment        1.0       0.0  Thumbnail   1390   \n",
      "3     housing/rent/apartment        1.0       0.0  Thumbnail    925   \n",
      "4     housing/rent/apartment        1.0       0.0  Thumbnail    880   \n",
      "...                      ...        ...       ...        ...    ...   \n",
      "9992  housing/rent/apartment        5.0       4.0  Thumbnail   4500   \n",
      "9993  housing/rent/apartment        5.0       5.0  Thumbnail   6900   \n",
      "9994  housing/rent/apartment        4.0       6.0  Thumbnail   3000   \n",
      "9995  housing/rent/apartment        4.0       5.0  Thumbnail   6000   \n",
      "9999  housing/rent/apartment        1.0       1.0         No   1009   \n",
      "\n",
      "     price_type  square_feet  state  latitude  longitude        time  \n",
      "0       Monthly          101  Otros  389057.0  -769861.0  1577359415  \n",
      "1       Monthly          106     IN  379680.0  -876621.0  1577017063  \n",
      "2       Monthly          107     VA  388910.0  -770816.0  1577359410  \n",
      "3       Monthly          116     WA  476160.0 -1223275.0  1576667743  \n",
      "4       Monthly          125     VA  388738.0  -771055.0  1577359401  \n",
      "...         ...          ...    ...       ...        ...         ...  \n",
      "9992    Monthly         5407     MN  448653.0  -934749.0  1576667692  \n",
      "9993    Monthly         5700     FL  281253.0  -824468.0  1577359442  \n",
      "9994    Monthly         5921  Otros  370835.0 -1135823.0  1577017103  \n",
      "9995    Monthly         6300     MN  449000.0  -933233.0  1575112975  \n",
      "9999    Monthly          880     GA  340072.0  -840034.0  1577362141  \n",
      "\n",
      "[9914 rows x 11 columns]\n"
     ]
    }
   ],
   "source": [
    "# Definir el umbral mínimo de datos por categoría\n",
    "umbral = 90  # Cambia este valor según tu criterio\n",
    "\n",
    "# Contar la frecuencia de cada categoría en la columna\n",
    "conteo = df_cleaned['state'].value_counts()\n",
    "\n",
    "# Reemplazar las categorías con menos datos que el umbral por \"Otras\"\n",
    "df_cleaned['state'] = df_cleaned['state'].apply(lambda x: 'Otros' if conteo[x] < umbral else x)\n",
    "\n",
    "# Mostrar el DataFrame modificado\n",
    "print(df_cleaned)\n"
   ]
  },
  {
   "cell_type": "code",
   "execution_count": 635,
   "metadata": {},
   "outputs": [
    {
     "data": {
      "text/html": [
       "<div>\n",
       "<style scoped>\n",
       "    .dataframe tbody tr th:only-of-type {\n",
       "        vertical-align: middle;\n",
       "    }\n",
       "\n",
       "    .dataframe tbody tr th {\n",
       "        vertical-align: top;\n",
       "    }\n",
       "\n",
       "    .dataframe thead th {\n",
       "        text-align: right;\n",
       "    }\n",
       "</style>\n",
       "<table border=\"1\" class=\"dataframe\">\n",
       "  <thead>\n",
       "    <tr style=\"text-align: right;\">\n",
       "      <th></th>\n",
       "      <th>bathrooms</th>\n",
       "      <th>bedrooms</th>\n",
       "      <th>price</th>\n",
       "      <th>square_feet</th>\n",
       "      <th>latitude</th>\n",
       "      <th>longitude</th>\n",
       "      <th>time</th>\n",
       "      <th>category_housing/rent/home</th>\n",
       "      <th>category_housing/rent/short_term</th>\n",
       "      <th>has_photo_Thumbnail</th>\n",
       "      <th>...</th>\n",
       "      <th>state_OH</th>\n",
       "      <th>state_OK</th>\n",
       "      <th>state_OR</th>\n",
       "      <th>state_Otros</th>\n",
       "      <th>state_PA</th>\n",
       "      <th>state_TN</th>\n",
       "      <th>state_TX</th>\n",
       "      <th>state_VA</th>\n",
       "      <th>state_WA</th>\n",
       "      <th>state_WI</th>\n",
       "    </tr>\n",
       "  </thead>\n",
       "  <tbody>\n",
       "    <tr>\n",
       "      <th>0</th>\n",
       "      <td>1.0</td>\n",
       "      <td>0.0</td>\n",
       "      <td>790</td>\n",
       "      <td>101</td>\n",
       "      <td>389057.0</td>\n",
       "      <td>-769861.0</td>\n",
       "      <td>1577359415</td>\n",
       "      <td>0</td>\n",
       "      <td>0</td>\n",
       "      <td>1</td>\n",
       "      <td>...</td>\n",
       "      <td>0</td>\n",
       "      <td>0</td>\n",
       "      <td>0</td>\n",
       "      <td>1</td>\n",
       "      <td>0</td>\n",
       "      <td>0</td>\n",
       "      <td>0</td>\n",
       "      <td>0</td>\n",
       "      <td>0</td>\n",
       "      <td>0</td>\n",
       "    </tr>\n",
       "    <tr>\n",
       "      <th>1</th>\n",
       "      <td>1.0</td>\n",
       "      <td>1.0</td>\n",
       "      <td>425</td>\n",
       "      <td>106</td>\n",
       "      <td>379680.0</td>\n",
       "      <td>-876621.0</td>\n",
       "      <td>1577017063</td>\n",
       "      <td>0</td>\n",
       "      <td>0</td>\n",
       "      <td>1</td>\n",
       "      <td>...</td>\n",
       "      <td>0</td>\n",
       "      <td>0</td>\n",
       "      <td>0</td>\n",
       "      <td>0</td>\n",
       "      <td>0</td>\n",
       "      <td>0</td>\n",
       "      <td>0</td>\n",
       "      <td>0</td>\n",
       "      <td>0</td>\n",
       "      <td>0</td>\n",
       "    </tr>\n",
       "    <tr>\n",
       "      <th>2</th>\n",
       "      <td>1.0</td>\n",
       "      <td>0.0</td>\n",
       "      <td>1390</td>\n",
       "      <td>107</td>\n",
       "      <td>388910.0</td>\n",
       "      <td>-770816.0</td>\n",
       "      <td>1577359410</td>\n",
       "      <td>0</td>\n",
       "      <td>0</td>\n",
       "      <td>1</td>\n",
       "      <td>...</td>\n",
       "      <td>0</td>\n",
       "      <td>0</td>\n",
       "      <td>0</td>\n",
       "      <td>0</td>\n",
       "      <td>0</td>\n",
       "      <td>0</td>\n",
       "      <td>0</td>\n",
       "      <td>1</td>\n",
       "      <td>0</td>\n",
       "      <td>0</td>\n",
       "    </tr>\n",
       "    <tr>\n",
       "      <th>3</th>\n",
       "      <td>1.0</td>\n",
       "      <td>0.0</td>\n",
       "      <td>925</td>\n",
       "      <td>116</td>\n",
       "      <td>476160.0</td>\n",
       "      <td>-1223275.0</td>\n",
       "      <td>1576667743</td>\n",
       "      <td>0</td>\n",
       "      <td>0</td>\n",
       "      <td>1</td>\n",
       "      <td>...</td>\n",
       "      <td>0</td>\n",
       "      <td>0</td>\n",
       "      <td>0</td>\n",
       "      <td>0</td>\n",
       "      <td>0</td>\n",
       "      <td>0</td>\n",
       "      <td>0</td>\n",
       "      <td>0</td>\n",
       "      <td>1</td>\n",
       "      <td>0</td>\n",
       "    </tr>\n",
       "    <tr>\n",
       "      <th>4</th>\n",
       "      <td>1.0</td>\n",
       "      <td>0.0</td>\n",
       "      <td>880</td>\n",
       "      <td>125</td>\n",
       "      <td>388738.0</td>\n",
       "      <td>-771055.0</td>\n",
       "      <td>1577359401</td>\n",
       "      <td>0</td>\n",
       "      <td>0</td>\n",
       "      <td>1</td>\n",
       "      <td>...</td>\n",
       "      <td>0</td>\n",
       "      <td>0</td>\n",
       "      <td>0</td>\n",
       "      <td>0</td>\n",
       "      <td>0</td>\n",
       "      <td>0</td>\n",
       "      <td>0</td>\n",
       "      <td>1</td>\n",
       "      <td>0</td>\n",
       "      <td>0</td>\n",
       "    </tr>\n",
       "    <tr>\n",
       "      <th>...</th>\n",
       "      <td>...</td>\n",
       "      <td>...</td>\n",
       "      <td>...</td>\n",
       "      <td>...</td>\n",
       "      <td>...</td>\n",
       "      <td>...</td>\n",
       "      <td>...</td>\n",
       "      <td>...</td>\n",
       "      <td>...</td>\n",
       "      <td>...</td>\n",
       "      <td>...</td>\n",
       "      <td>...</td>\n",
       "      <td>...</td>\n",
       "      <td>...</td>\n",
       "      <td>...</td>\n",
       "      <td>...</td>\n",
       "      <td>...</td>\n",
       "      <td>...</td>\n",
       "      <td>...</td>\n",
       "      <td>...</td>\n",
       "      <td>...</td>\n",
       "    </tr>\n",
       "    <tr>\n",
       "      <th>9992</th>\n",
       "      <td>5.0</td>\n",
       "      <td>4.0</td>\n",
       "      <td>4500</td>\n",
       "      <td>5407</td>\n",
       "      <td>448653.0</td>\n",
       "      <td>-934749.0</td>\n",
       "      <td>1576667692</td>\n",
       "      <td>0</td>\n",
       "      <td>0</td>\n",
       "      <td>1</td>\n",
       "      <td>...</td>\n",
       "      <td>0</td>\n",
       "      <td>0</td>\n",
       "      <td>0</td>\n",
       "      <td>0</td>\n",
       "      <td>0</td>\n",
       "      <td>0</td>\n",
       "      <td>0</td>\n",
       "      <td>0</td>\n",
       "      <td>0</td>\n",
       "      <td>0</td>\n",
       "    </tr>\n",
       "    <tr>\n",
       "      <th>9993</th>\n",
       "      <td>5.0</td>\n",
       "      <td>5.0</td>\n",
       "      <td>6900</td>\n",
       "      <td>5700</td>\n",
       "      <td>281253.0</td>\n",
       "      <td>-824468.0</td>\n",
       "      <td>1577359442</td>\n",
       "      <td>0</td>\n",
       "      <td>0</td>\n",
       "      <td>1</td>\n",
       "      <td>...</td>\n",
       "      <td>0</td>\n",
       "      <td>0</td>\n",
       "      <td>0</td>\n",
       "      <td>0</td>\n",
       "      <td>0</td>\n",
       "      <td>0</td>\n",
       "      <td>0</td>\n",
       "      <td>0</td>\n",
       "      <td>0</td>\n",
       "      <td>0</td>\n",
       "    </tr>\n",
       "    <tr>\n",
       "      <th>9994</th>\n",
       "      <td>4.0</td>\n",
       "      <td>6.0</td>\n",
       "      <td>3000</td>\n",
       "      <td>5921</td>\n",
       "      <td>370835.0</td>\n",
       "      <td>-1135823.0</td>\n",
       "      <td>1577017103</td>\n",
       "      <td>0</td>\n",
       "      <td>0</td>\n",
       "      <td>1</td>\n",
       "      <td>...</td>\n",
       "      <td>0</td>\n",
       "      <td>0</td>\n",
       "      <td>0</td>\n",
       "      <td>1</td>\n",
       "      <td>0</td>\n",
       "      <td>0</td>\n",
       "      <td>0</td>\n",
       "      <td>0</td>\n",
       "      <td>0</td>\n",
       "      <td>0</td>\n",
       "    </tr>\n",
       "    <tr>\n",
       "      <th>9995</th>\n",
       "      <td>4.0</td>\n",
       "      <td>5.0</td>\n",
       "      <td>6000</td>\n",
       "      <td>6300</td>\n",
       "      <td>449000.0</td>\n",
       "      <td>-933233.0</td>\n",
       "      <td>1575112975</td>\n",
       "      <td>0</td>\n",
       "      <td>0</td>\n",
       "      <td>1</td>\n",
       "      <td>...</td>\n",
       "      <td>0</td>\n",
       "      <td>0</td>\n",
       "      <td>0</td>\n",
       "      <td>0</td>\n",
       "      <td>0</td>\n",
       "      <td>0</td>\n",
       "      <td>0</td>\n",
       "      <td>0</td>\n",
       "      <td>0</td>\n",
       "      <td>0</td>\n",
       "    </tr>\n",
       "    <tr>\n",
       "      <th>9999</th>\n",
       "      <td>1.0</td>\n",
       "      <td>1.0</td>\n",
       "      <td>1009</td>\n",
       "      <td>880</td>\n",
       "      <td>340072.0</td>\n",
       "      <td>-840034.0</td>\n",
       "      <td>1577362141</td>\n",
       "      <td>0</td>\n",
       "      <td>0</td>\n",
       "      <td>0</td>\n",
       "      <td>...</td>\n",
       "      <td>0</td>\n",
       "      <td>0</td>\n",
       "      <td>0</td>\n",
       "      <td>0</td>\n",
       "      <td>0</td>\n",
       "      <td>0</td>\n",
       "      <td>0</td>\n",
       "      <td>0</td>\n",
       "      <td>0</td>\n",
       "      <td>0</td>\n",
       "    </tr>\n",
       "  </tbody>\n",
       "</table>\n",
       "<p>9914 rows × 41 columns</p>\n",
       "</div>"
      ],
      "text/plain": [
       "      bathrooms  bedrooms  price  square_feet  latitude  longitude  \\\n",
       "0           1.0       0.0    790          101  389057.0  -769861.0   \n",
       "1           1.0       1.0    425          106  379680.0  -876621.0   \n",
       "2           1.0       0.0   1390          107  388910.0  -770816.0   \n",
       "3           1.0       0.0    925          116  476160.0 -1223275.0   \n",
       "4           1.0       0.0    880          125  388738.0  -771055.0   \n",
       "...         ...       ...    ...          ...       ...        ...   \n",
       "9992        5.0       4.0   4500         5407  448653.0  -934749.0   \n",
       "9993        5.0       5.0   6900         5700  281253.0  -824468.0   \n",
       "9994        4.0       6.0   3000         5921  370835.0 -1135823.0   \n",
       "9995        4.0       5.0   6000         6300  449000.0  -933233.0   \n",
       "9999        1.0       1.0   1009          880  340072.0  -840034.0   \n",
       "\n",
       "            time  category_housing/rent/home  \\\n",
       "0     1577359415                           0   \n",
       "1     1577017063                           0   \n",
       "2     1577359410                           0   \n",
       "3     1576667743                           0   \n",
       "4     1577359401                           0   \n",
       "...          ...                         ...   \n",
       "9992  1576667692                           0   \n",
       "9993  1577359442                           0   \n",
       "9994  1577017103                           0   \n",
       "9995  1575112975                           0   \n",
       "9999  1577362141                           0   \n",
       "\n",
       "      category_housing/rent/short_term  has_photo_Thumbnail  ...  state_OH  \\\n",
       "0                                    0                    1  ...         0   \n",
       "1                                    0                    1  ...         0   \n",
       "2                                    0                    1  ...         0   \n",
       "3                                    0                    1  ...         0   \n",
       "4                                    0                    1  ...         0   \n",
       "...                                ...                  ...  ...       ...   \n",
       "9992                                 0                    1  ...         0   \n",
       "9993                                 0                    1  ...         0   \n",
       "9994                                 0                    1  ...         0   \n",
       "9995                                 0                    1  ...         0   \n",
       "9999                                 0                    0  ...         0   \n",
       "\n",
       "      state_OK  state_OR  state_Otros  state_PA  state_TN  state_TX  state_VA  \\\n",
       "0            0         0            1         0         0         0         0   \n",
       "1            0         0            0         0         0         0         0   \n",
       "2            0         0            0         0         0         0         1   \n",
       "3            0         0            0         0         0         0         0   \n",
       "4            0         0            0         0         0         0         1   \n",
       "...        ...       ...          ...       ...       ...       ...       ...   \n",
       "9992         0         0            0         0         0         0         0   \n",
       "9993         0         0            0         0         0         0         0   \n",
       "9994         0         0            1         0         0         0         0   \n",
       "9995         0         0            0         0         0         0         0   \n",
       "9999         0         0            0         0         0         0         0   \n",
       "\n",
       "      state_WA  state_WI  \n",
       "0            0         0  \n",
       "1            0         0  \n",
       "2            0         0  \n",
       "3            1         0  \n",
       "4            0         0  \n",
       "...        ...       ...  \n",
       "9992         0         0  \n",
       "9993         0         0  \n",
       "9994         0         0  \n",
       "9995         0         0  \n",
       "9999         0         0  \n",
       "\n",
       "[9914 rows x 41 columns]"
      ]
     },
     "execution_count": 635,
     "metadata": {},
     "output_type": "execute_result"
    }
   ],
   "source": [
    "catcols = df_cleaned.select_dtypes(exclude = ['int64','float64']).columns\n",
    " \n",
    "data_dummie = pd.get_dummies(df_cleaned, columns = catcols, dtype=int, drop_first=True)\n",
    "\n",
    "data_dummie\n"
   ]
  },
  {
   "cell_type": "code",
   "execution_count": 636,
   "metadata": {},
   "outputs": [
    {
     "data": {
      "text/plain": [
       "state\n",
       "TX       1734\n",
       "CA        954\n",
       "Otros     893\n",
       "WA        519\n",
       "NC        438\n",
       "MD        423\n",
       "NJ        383\n",
       "GA        372\n",
       "FL        339\n",
       "OH        319\n",
       "CO        318\n",
       "WI        301\n",
       "IL        282\n",
       "IN        239\n",
       "MO        239\n",
       "MN        221\n",
       "VA        205\n",
       "OR        197\n",
       "PA        183\n",
       "IA        179\n",
       "OK        178\n",
       "MI        176\n",
       "MA        167\n",
       "AZ        126\n",
       "NV        121\n",
       "ND        113\n",
       "NE        105\n",
       "CT         98\n",
       "TN         92\n",
       "Name: count, dtype: int64"
      ]
     },
     "execution_count": 636,
     "metadata": {},
     "output_type": "execute_result"
    }
   ],
   "source": [
    "df_cleaned['state'].value_counts()"
   ]
  },
  {
   "cell_type": "code",
   "execution_count": 637,
   "metadata": {},
   "outputs": [
    {
     "name": "stdout",
     "output_type": "stream",
     "text": [
      "['bathrooms', 'bedrooms', 'price', 'square_feet', 'latitude', 'longitude', 'time', 'category_housing/rent/home', 'category_housing/rent/short_term', 'has_photo_Thumbnail', 'has_photo_Yes', 'price_type_Monthly|Weekly', 'price_type_Weekly', 'state_CA', 'state_CO', 'state_CT', 'state_FL', 'state_GA', 'state_IA', 'state_IL', 'state_IN', 'state_MA', 'state_MD', 'state_MI', 'state_MN', 'state_MO', 'state_NC', 'state_ND', 'state_NE', 'state_NJ', 'state_NV', 'state_OH', 'state_OK', 'state_OR', 'state_Otros', 'state_PA', 'state_TN', 'state_TX', 'state_VA', 'state_WA', 'state_WI']\n"
     ]
    }
   ],
   "source": [
    "print(list(data_dummie.columns))"
   ]
  },
  {
   "cell_type": "markdown",
   "metadata": {},
   "source": [
    "### Multicolinealidad"
   ]
  },
  {
   "cell_type": "code",
   "execution_count": 638,
   "metadata": {},
   "outputs": [
    {
     "name": "stderr",
     "output_type": "stream",
     "text": [
      "c:\\Users\\paula\\AppData\\Local\\Programs\\Python\\Python311\\Lib\\site-packages\\statsmodels\\regression\\linear_model.py:1782: RuntimeWarning: divide by zero encountered in scalar divide\n",
      "  return 1 - self.ssr/self.centered_tss\n"
     ]
    },
    {
     "name": "stdout",
     "output_type": "stream",
     "text": [
      "state_TX 13.040866703317594\n"
     ]
    }
   ],
   "source": [
    "from statsmodels.stats.outliers_influence import variance_inflation_factor\n",
    "import statsmodels.api as sm\n",
    "\n",
    "# Añadir constante a X para calcular VIF\n",
    "X_with_const = sm.add_constant(data_dummie)\n",
    "\n",
    "# Calcular VIF para cada variable\n",
    "vif_data = pd.DataFrame()\n",
    "vif_data[\"Variable\"] = X_with_const.columns\n",
    "vif_data[\"VIF\"] = [variance_inflation_factor(X_with_const.values, i) for i in range(X_with_const.shape[1])]\n",
    "\n",
    "\n",
    "for i in range(1,len(vif_data)):\n",
    "    if vif_data[\"VIF\"][i]>10:\n",
    "        print(vif_data[\"Variable\"][i],vif_data[\"VIF\"][i])"
   ]
  },
  {
   "cell_type": "code",
   "execution_count": 639,
   "metadata": {},
   "outputs": [],
   "source": [
    "data_dummie.to_csv('Data_limpia_dummies.csv', index=False)"
   ]
  },
  {
   "cell_type": "code",
   "execution_count": 640,
   "metadata": {},
   "outputs": [],
   "source": [
    "df_cleaned.to_csv('Data_limpia.csv', index=False)"
   ]
  },
  {
   "cell_type": "code",
   "execution_count": null,
   "metadata": {},
   "outputs": [],
   "source": []
  }
 ],
 "metadata": {
  "kernelspec": {
   "display_name": "Python 3",
   "language": "python",
   "name": "python3"
  },
  "language_info": {
   "codemirror_mode": {
    "name": "ipython",
    "version": 3
   },
   "file_extension": ".py",
   "mimetype": "text/x-python",
   "name": "python",
   "nbconvert_exporter": "python",
   "pygments_lexer": "ipython3",
   "version": "3.11.0"
  }
 },
 "nbformat": 4,
 "nbformat_minor": 2
}
